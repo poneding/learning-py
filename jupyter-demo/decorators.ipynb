{
 "cells": [
  {
   "cell_type": "markdown",
   "id": "74d03fb5",
   "metadata": {},
   "source": [
    "**装饰器**\n",
    "\n",
    "是一种函数，它接受一个函数作为参数，并返回一个新的函数或修改原来的函数。"
   ]
  },
  {
   "cell_type": "code",
   "execution_count": null,
   "id": "9daf66d2",
   "metadata": {},
   "outputs": [
    {
     "name": "stdout",
     "output_type": "stream",
     "text": [
      "Before the function call\n",
      "Hello, Alice\n",
      "After the function call\n",
      "Hello, Bob\n",
      "Hello, Bob\n",
      "Hello, Bob\n"
     ]
    }
   ],
   "source": [
    "def my_decorator(f):\n",
    "    def wrapper(*args, **kwargs):\n",
    "        print(\"Before the function call\")\n",
    "        result = f(*args, **kwargs)\n",
    "        print(\"After the function call\")\n",
    "        return result\n",
    "\n",
    "    return wrapper\n",
    "\n",
    "\n",
    "@my_decorator\n",
    "def say_hi(name):\n",
    "    print(\"Hello, \" + name)\n",
    "\n",
    "\n",
    "say_hi(\"Alice\")\n",
    "\n",
    "\n",
    "# 装饰器接收参数\n",
    "def repeat(num_times):\n",
    "    def decorator_repeat(f):\n",
    "        def wrapper(*args, **kwargs):\n",
    "            for _ in range(num_times):\n",
    "                result = f(*args, **kwargs)\n",
    "            return result\n",
    "\n",
    "        return wrapper\n",
    "\n",
    "    return decorator_repeat\n",
    "\n",
    "\n",
    "@repeat(num_times=3)\n",
    "def greet(name):\n",
    "    print(\"Hello, \" + name)\n",
    "\n",
    "\n",
    "greet(\"Bob\")"
   ]
  },
  {
   "cell_type": "markdown",
   "id": "1914e063",
   "metadata": {},
   "source": [
    "**类装饰器**"
   ]
  },
  {
   "cell_type": "code",
   "execution_count": 6,
   "id": "4db2767d",
   "metadata": {},
   "outputs": [
    {
     "name": "stdout",
     "output_type": "stream",
     "text": [
      "调用 MyClass.display() 前\n",
      "这是 MyClass 的 display 方法\n",
      "调用 MyClass.display() 后\n"
     ]
    }
   ],
   "source": [
    "def log_class(cls):\n",
    "    \"\"\"类装饰器，在调用方法前后打印日志\"\"\"\n",
    "\n",
    "    class Wrapper:\n",
    "        def __init__(self, *args, **kwargs):\n",
    "            self.wrapped = cls(*args, **kwargs)  # 实例化原始类\n",
    "\n",
    "        def __getattr__(self, name):\n",
    "            \"\"\"拦截未定义的属性访问，转发给原始类\"\"\"\n",
    "            return getattr(self.wrapped, name)\n",
    "\n",
    "        def display(self):\n",
    "            print(f\"调用 {cls.__name__}.display() 前\")\n",
    "            self.wrapped.display()\n",
    "            print(f\"调用 {cls.__name__}.display() 后\")\n",
    "\n",
    "    return Wrapper  # 返回包装后的类\n",
    "\n",
    "\n",
    "@log_class\n",
    "class MyClass:\n",
    "    def display(self):\n",
    "        print(\"这是 MyClass 的 display 方法\")\n",
    "\n",
    "\n",
    "obj = MyClass()\n",
    "obj.display()"
   ]
  },
  {
   "cell_type": "markdown",
   "id": "dd58e3a9",
   "metadata": {},
   "source": [
    "使用类装饰器实现单例模式："
   ]
  },
  {
   "cell_type": "code",
   "execution_count": 8,
   "id": "2647e2db",
   "metadata": {},
   "outputs": [
    {
     "name": "stdout",
     "output_type": "stream",
     "text": [
      "初始化数据库连接\n",
      "True\n"
     ]
    }
   ],
   "source": [
    "class SingletonDecorator:\n",
    "    \"\"\"单例模式装饰器\"\"\"\n",
    "\n",
    "    def __init__(self, cls):\n",
    "        self._cls = cls\n",
    "        self._instance = None\n",
    "\n",
    "    def __call__(self, *args, **kwargs):\n",
    "        if not self._instance:\n",
    "            self._instance = self._cls(*args, **kwargs)\n",
    "        return self._instance\n",
    "\n",
    "\n",
    "@SingletonDecorator\n",
    "class Database:\n",
    "    \"\"\"数据库连接类\"\"\"\n",
    "\n",
    "    def __init__(self):\n",
    "        print(\"初始化数据库连接\")\n",
    "\n",
    "\n",
    "db1 = Database()\n",
    "db2 = Database()\n",
    "print(db1 is db2)"
   ]
  }
 ],
 "metadata": {
  "kernelspec": {
   "display_name": "Python 3",
   "language": "python",
   "name": "python3"
  },
  "language_info": {
   "codemirror_mode": {
    "name": "ipython",
    "version": 3
   },
   "file_extension": ".py",
   "mimetype": "text/x-python",
   "name": "python",
   "nbconvert_exporter": "python",
   "pygments_lexer": "ipython3",
   "version": "3.9.6"
  }
 },
 "nbformat": 4,
 "nbformat_minor": 5
}
