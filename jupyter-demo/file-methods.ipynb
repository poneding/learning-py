{
 "cells": [
  {
   "cell_type": "markdown",
   "id": "82589056",
   "metadata": {},
   "source": [
    "**读**"
   ]
  },
  {
   "cell_type": "code",
   "execution_count": 3,
   "id": "c2999704",
   "metadata": {},
   "outputs": [
    {
     "name": "stdout",
     "output_type": "stream",
     "text": [
      "Hello\n"
     ]
    }
   ],
   "source": [
    "f = open(\"exam_readfile\", \"r\")\n",
    "txt = f.read()\n",
    "print(txt)\n",
    "f.close()"
   ]
  },
  {
   "cell_type": "markdown",
   "id": "1b23b923",
   "metadata": {},
   "source": [
    "**写**"
   ]
  },
  {
   "cell_type": "markdown",
   "id": "608f3e37",
   "metadata": {},
   "source": [
    "从开头写，如果文件已有内容，会被覆盖。如果文件不存在，则创建新文件。"
   ]
  },
  {
   "cell_type": "code",
   "execution_count": 10,
   "id": "a3c98d7c",
   "metadata": {},
   "outputs": [],
   "source": [
    "f = open(\"exam_writefile\", \"w\")\n",
    "f.write(\"Hello, Python!\\n\")\n",
    "f.close()"
   ]
  },
  {
   "cell_type": "markdown",
   "id": "a9fbeb8b",
   "metadata": {},
   "source": [
    "从末尾写，如果文件已有内容，会在末尾追加。"
   ]
  },
  {
   "cell_type": "code",
   "execution_count": 11,
   "id": "7c84a470",
   "metadata": {},
   "outputs": [],
   "source": [
    "f = open(\"exam_writefile\", \"a+\")\n",
    "f.write(\"Hello, world!\\n\")\n",
    "f.close()"
   ]
  }
 ],
 "metadata": {
  "kernelspec": {
   "display_name": "Python 3",
   "language": "python",
   "name": "python3"
  },
  "language_info": {
   "codemirror_mode": {
    "name": "ipython",
    "version": 3
   },
   "file_extension": ".py",
   "mimetype": "text/x-python",
   "name": "python",
   "nbconvert_exporter": "python",
   "pygments_lexer": "ipython3",
   "version": "3.9.6"
  }
 },
 "nbformat": 4,
 "nbformat_minor": 5
}
