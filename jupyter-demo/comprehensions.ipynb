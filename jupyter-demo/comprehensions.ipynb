{
 "cells": [
  {
   "cell_type": "markdown",
   "id": "219cb2a3",
   "metadata": {},
   "source": [
    "**列表推导式**"
   ]
  },
  {
   "cell_type": "code",
   "execution_count": null,
   "id": "bdda15c6",
   "metadata": {},
   "outputs": [
    {
     "name": "stdout",
     "output_type": "stream",
     "text": [
      "['ALICE', 'CHARLIE', 'DAVID']\n",
      "[0, 3, 6, 9, 12, 15, 18]\n"
     ]
    }
   ],
   "source": [
    "names = [\"Alice\", \"Bob\", \"Charlie\", \"David\", \"Eve\"]\n",
    "new_names = [name.upper() for name in names if len(name) > 3]\n",
    "print(new_names)\n",
    "\n",
    "multiples = [i for i in range(20) if i % 3 == 0]\n",
    "print(multiples)"
   ]
  },
  {
   "cell_type": "markdown",
   "id": "c61c9ada",
   "metadata": {},
   "source": [
    "**字典推导式**"
   ]
  },
  {
   "cell_type": "code",
   "execution_count": null,
   "id": "a6494fd8",
   "metadata": {},
   "outputs": [
    {
     "name": "stdout",
     "output_type": "stream",
     "text": [
      "{'Google': 6, 'Runoob': 6, 'Taobao': 6}\n",
      "{2: 4, 3: 9, 4: 16, 5: 25}\n"
     ]
    }
   ],
   "source": [
    "listdemo = [\"Google\", \"Runoob\", \"Taobao\"]\n",
    "newdict = {key: len(key) for key in listdemo}\n",
    "print(newdict)\n",
    "\n",
    "dic = {x: x**2 for x in range(2, 6)}\n",
    "print(dic)"
   ]
  },
  {
   "cell_type": "markdown",
   "id": "7bc6c055",
   "metadata": {},
   "source": [
    "**集合推导式**"
   ]
  },
  {
   "cell_type": "code",
   "execution_count": null,
   "id": "80d43169",
   "metadata": {},
   "outputs": [
    {
     "name": "stdout",
     "output_type": "stream",
     "text": [
      "{0, 64, 4, 36, 16}\n",
      "{'r', 'd'}\n",
      "<class 'set'>\n"
     ]
    }
   ],
   "source": [
    "setnew = {x**2 for x in range(10) if x % 2 == 0}\n",
    "print(setnew)\n",
    "\n",
    "a = {x for x in \"abracadabra\" if x not in \"abc\"}\n",
    "print(a)\n",
    "print(type(a))"
   ]
  },
  {
   "cell_type": "markdown",
   "id": "af82c416",
   "metadata": {},
   "source": [
    "**元组推导式**"
   ]
  },
  {
   "cell_type": "code",
   "execution_count": null,
   "id": "c3503202",
   "metadata": {},
   "outputs": [
    {
     "name": "stdout",
     "output_type": "stream",
     "text": [
      "<generator object <genexpr> at 0x10b49c350>\n",
      "(0, 1, 2, 3, 4, 5, 6, 7, 8, 9)\n"
     ]
    }
   ],
   "source": [
    "a = (x for x in range(10))\n",
    "print(a)  # 生成器对像\n",
    "\n",
    "print(tuple(a))"
   ]
  }
 ],
 "metadata": {
  "kernelspec": {
   "display_name": "Python 3",
   "language": "python",
   "name": "python3"
  },
  "language_info": {
   "codemirror_mode": {
    "name": "ipython",
    "version": 3
   },
   "file_extension": ".py",
   "mimetype": "text/x-python",
   "name": "python",
   "nbconvert_exporter": "python",
   "pygments_lexer": "ipython3",
   "version": "3.9.6"
  }
 },
 "nbformat": 4,
 "nbformat_minor": 5
}
