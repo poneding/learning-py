{
 "cells": [
  {
   "cell_type": "markdown",
   "id": "cba3eebb",
   "metadata": {},
   "source": [
    "**必需参数**"
   ]
  },
  {
   "cell_type": "code",
   "execution_count": null,
   "id": "a96c6482",
   "metadata": {},
   "outputs": [
    {
     "name": "stdout",
     "output_type": "stream",
     "text": [
      "Hello, Alice!\n"
     ]
    }
   ],
   "source": [
    "def hello(name):\n",
    "    \"\"\"\n",
    "    打招呼函数\n",
    "    :param name: 姓名\n",
    "    :return: None\n",
    "    \"\"\"\n",
    "    print(f\"Hello, {name}!\")\n",
    "\n",
    "\n",
    "# hello() # 报错，因为没有传入参数\n",
    "hello(\"Alice\")  # 正常调用"
   ]
  },
  {
   "cell_type": "markdown",
   "id": "ce90a32c",
   "metadata": {},
   "source": [
    "**关键字参数**"
   ]
  },
  {
   "cell_type": "code",
   "execution_count": null,
   "id": "91d46c7e",
   "metadata": {},
   "outputs": [
    {
     "name": "stdout",
     "output_type": "stream",
     "text": [
      "我的名字是小明,今年18岁\n",
      "我的名字是小红,今年18岁\n",
      "我的名字是小红,今年18岁\n"
     ]
    }
   ],
   "source": [
    "def self_introduce(name, age):\n",
    "    print(\"我的名字是%s,今年%d岁\" % (name, age))\n",
    "\n",
    "\n",
    "self_introduce(\"小明\", 18)  # 正常调用\n",
    "self_introduce(name=\"小红\", age=18)  # 正常调用\n",
    "self_introduce(age=18, name=\"小红\")  # 正常调用，参数顺序可以不一致\n",
    "# self_introduce(\"小红\")  # 报错，因为参数个数不匹配"
   ]
  },
  {
   "cell_type": "markdown",
   "id": "623a2055",
   "metadata": {},
   "source": [
    "**默认参数**"
   ]
  },
  {
   "cell_type": "code",
   "execution_count": null,
   "id": "95d9c262",
   "metadata": {},
   "outputs": [
    {
     "name": "stdout",
     "output_type": "stream",
     "text": [
      "我的名字是小明,今年18岁\n",
      "我的名字是小红,今年20岁\n"
     ]
    }
   ],
   "source": [
    "def self_introduce(name, age=18):\n",
    "    print(\"我的名字是%s,今年%d岁\" % (name, age))\n",
    "\n",
    "\n",
    "self_introduce(\"小明\")  # 正常调用，使用默认参数\n",
    "self_introduce(\"小红\", 20)  # 正常调用，覆盖默认参数"
   ]
  },
  {
   "cell_type": "markdown",
   "id": "13c54fd7",
   "metadata": {},
   "source": [
    "**不定长参数**"
   ]
  },
  {
   "cell_type": "markdown",
   "id": "80c43e78",
   "metadata": {},
   "source": [
    "加了星号 `*` 的参数会以元组(tuple)的形式导入，存放所有未命名的变量参数。"
   ]
  },
  {
   "cell_type": "code",
   "execution_count": null,
   "id": "ebffd844",
   "metadata": {},
   "outputs": [
    {
     "name": "stdout",
     "output_type": "stream",
     "text": [
      "我的名字是小明\n",
      "我的爱好是打篮球 游泳 看书 <class 'tuple'>\n"
     ]
    }
   ],
   "source": [
    "def self_introduce(name, habbit, *other_habbits):\n",
    "    print(\"我的名字是%s\" % name)\n",
    "    print(\"我的爱好是%s\" % habbit, end=\" \")\n",
    "    for habbit in other_habbits:\n",
    "        print(habbit, end=\" \")\n",
    "    print(type(other_habbits))  # <class 'tuple'>\n",
    "\n",
    "\n",
    "self_introduce(\"小明\", \"打篮球\", \"游泳\", \"看书\")  # 正常调用"
   ]
  },
  {
   "cell_type": "markdown",
   "id": "d22f15fc",
   "metadata": {},
   "source": [
    "加了两个星号 `**` 的参数会以字典的形式导入。"
   ]
  },
  {
   "cell_type": "code",
   "execution_count": null,
   "id": "ca72c403",
   "metadata": {},
   "outputs": [
    {
     "name": "stdout",
     "output_type": "stream",
     "text": [
      "我的名字是小明\n",
      "我的爱好是打篮球 a b <class 'dict'>\n"
     ]
    }
   ],
   "source": [
    "def self_introduce(name, habbit, **other_habbits):\n",
    "    print(\"我的名字是%s\" % name)\n",
    "    print(\"我的爱好是%s\" % habbit, end=\" \")\n",
    "    for habbit in other_habbits:\n",
    "        print(habbit, end=\" \")\n",
    "    print(type(other_habbits))  # <class 'dict'>\n",
    "\n",
    "\n",
    "self_introduce(\"小明\", \"打篮球\", a=\"游泳\", b=\"看书\")  # 正常调用"
   ]
  }
 ],
 "metadata": {
  "kernelspec": {
   "display_name": "Python 3",
   "language": "python",
   "name": "python3"
  },
  "language_info": {
   "codemirror_mode": {
    "name": "ipython",
    "version": 3
   },
   "file_extension": ".py",
   "mimetype": "text/x-python",
   "name": "python",
   "nbconvert_exporter": "python",
   "pygments_lexer": "ipython3",
   "version": "3.9.6"
  }
 },
 "nbformat": 4,
 "nbformat_minor": 5
}
