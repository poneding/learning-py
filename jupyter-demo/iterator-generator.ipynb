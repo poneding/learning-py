{
 "cells": [
  {
   "cell_type": "markdown",
   "id": "2245f919",
   "metadata": {},
   "source": [
    "**迭代器**"
   ]
  },
  {
   "cell_type": "markdown",
   "id": "742d8a9a",
   "metadata": {},
   "source": [
    "两个基本的方法：`iter()` 和 `next()`"
   ]
  },
  {
   "cell_type": "code",
   "execution_count": null,
   "id": "639316f1",
   "metadata": {},
   "outputs": [
    {
     "name": "stdout",
     "output_type": "stream",
     "text": [
      "1\n",
      "2\n",
      "3 4 5 \n",
      "1 2 3 4 5 "
     ]
    }
   ],
   "source": [
    "list = [1, 2, 3, 4, 5]\n",
    "it = iter(list)\n",
    "print(next(it))  # 1\n",
    "print(next(it))  # 2\n",
    "\n",
    "for x in it:\n",
    "    print(x, end=\" \")  # 3 4 5\n",
    "\n",
    "print()\n",
    "\n",
    "list = [1, 2, 3, 4, 5]\n",
    "it = iter(list)\n",
    "while True:\n",
    "    try:\n",
    "        print(next(it), end=\" \")\n",
    "    except StopIteration:\n",
    "        break"
   ]
  },
  {
   "cell_type": "markdown",
   "id": "91f55939",
   "metadata": {},
   "source": [
    "**创建一个迭代器**"
   ]
  },
  {
   "cell_type": "markdown",
   "id": "8252841a",
   "metadata": {},
   "source": [
    "一个类作为一个迭代器使用需要在类中实现两个方法 `__iter__()` 与 `__next__()`\n",
    "\n",
    "- `__iter__()` 返回迭代器对象本身\n",
    "- `__next__()` 返回下一个值"
   ]
  },
  {
   "cell_type": "markdown",
   "id": "acdd4829",
   "metadata": {},
   "source": [
    "`StopIteration` 是一种异常，用于标识迭代的完成。"
   ]
  },
  {
   "cell_type": "code",
   "execution_count": null,
   "id": "17c994ed",
   "metadata": {},
   "outputs": [
    {
     "name": "stdout",
     "output_type": "stream",
     "text": [
      "0 1 2 3 4 \n",
      "5 6 7 8 9 Finished\n"
     ]
    }
   ],
   "source": [
    "class MyIterator:\n",
    "    def __iter__(self):\n",
    "        self.a = 0\n",
    "        return self\n",
    "\n",
    "    def __next__(self):\n",
    "        if self.a >= 10:\n",
    "            raise StopIteration\n",
    "        x = self.a\n",
    "        self.a += 1\n",
    "        return x\n",
    "\n",
    "\n",
    "c = MyIterator()\n",
    "cit = iter(c)\n",
    "\n",
    "for i in range(5):\n",
    "    print(next(cit), end=\" \")  # 0 1 2 3 4\n",
    "\n",
    "print()\n",
    "while True:\n",
    "    try:\n",
    "        print(next(cit), end=\" \")\n",
    "    except StopIteration:\n",
    "        print(\"Finished\")\n",
    "        break"
   ]
  },
  {
   "cell_type": "markdown",
   "id": "da3b40eb",
   "metadata": {},
   "source": [
    "**生成器**"
   ]
  },
  {
   "cell_type": "markdown",
   "id": "bfd613c4",
   "metadata": {},
   "source": [
    "`yield` 定义生成函数，生成函数是一种特殊的函数，只能用于迭代操作。在迭代过程中逐步产生值。当生成函数中使用 `yield` 语句时，函数的执行将会暂停，并将 `yield` 后面的表达式作为当前迭代的值返回。\n",
    "\n",
    "每次调用生成器的 `next()` 方法或使用 `for` 循环进行迭代时，函数会从上次暂停的地方继续执行，直到再次遇到 `yield` 语句。"
   ]
  },
  {
   "cell_type": "code",
   "execution_count": null,
   "id": "d0f7229c",
   "metadata": {},
   "outputs": [
    {
     "name": "stdout",
     "output_type": "stream",
     "text": [
      "5\n",
      "4\n",
      "3 2 1 "
     ]
    }
   ],
   "source": [
    "def countdown(n):\n",
    "    while n > 0:\n",
    "        yield n\n",
    "        n -= 1\n",
    "\n",
    "\n",
    "generator = countdown(5)\n",
    "print(next(generator))  # 5\n",
    "print(next(generator))  # 4\n",
    "\n",
    "for v in generator:\n",
    "    print(v, end=\" \")  # 3 2 1"
   ]
  },
  {
   "cell_type": "code",
   "execution_count": null,
   "id": "6b1b531a",
   "metadata": {},
   "outputs": [
    {
     "name": "stdout",
     "output_type": "stream",
     "text": [
      "0 1 1 2 3 5 8 "
     ]
    }
   ],
   "source": [
    "# yield 实现斐波那契\n",
    "def fibonacci(n):\n",
    "    a, b = 0, 1\n",
    "    while True:\n",
    "        if a > n:\n",
    "            return\n",
    "        yield a\n",
    "        a, b = b, a + b\n",
    "\n",
    "\n",
    "f = fibonacci(10)\n",
    "for i in f:\n",
    "    print(i, end=\" \")  # 0 1 1 2 3 5 8"
   ]
  }
 ],
 "metadata": {
  "kernelspec": {
   "display_name": "Python 3",
   "language": "python",
   "name": "python3"
  },
  "language_info": {
   "codemirror_mode": {
    "name": "ipython",
    "version": 3
   },
   "file_extension": ".py",
   "mimetype": "text/x-python",
   "name": "python",
   "nbconvert_exporter": "python",
   "pygments_lexer": "ipython3",
   "version": "3.9.6"
  }
 },
 "nbformat": 4,
 "nbformat_minor": 5
}
